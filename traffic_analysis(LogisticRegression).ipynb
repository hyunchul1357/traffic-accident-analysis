{
 "cells": [
  {
   "cell_type": "markdown",
   "metadata": {},
   "source": [
    "### Import Common Modules"
   ]
  },
  {
   "cell_type": "code",
   "execution_count": 1,
   "metadata": {},
   "outputs": [
    {
     "name": "stdout",
     "output_type": "stream",
     "text": [
      "importing Jupyter notebook from traffic_common.ipynb\n"
     ]
    }
   ],
   "source": [
    "import import_ipynb\n",
    "\n",
    "import pandas as pd\n",
    "import numpy as np\n",
    "import matplotlib.pyplot as plt\n",
    "import seaborn as sns\n",
    "%matplotlib inline\n",
    "\n",
    "from sklearn.model_selection import train_test_split, cross_val_score\n",
    "from sklearn.metrics import classification_report,confusion_matrix, accuracy_score, roc_auc_score, \\\n",
    "                                precision_score, f1_score, recall_score, mean_squared_error, mean_absolute_error\n",
    "from sklearn.linear_model import Ridge, LogisticRegression\n",
    "from sklearn.metrics import classification_report\n",
    "\n",
    "import matplotlib as mpl\n",
    "from matplotlib import font_manager, rc\n",
    "font_name = font_manager.FontProperties(fname=\"c:/Windows/Fonts/malgun.ttf\").get_name()\n",
    "rc('font', family=font_name)\n",
    "mpl.rcParams['axes.unicode_minus'] = False\n",
    "\n",
    "pd.set_option('display.max_row', 500)\n",
    "pd.set_option('display.max_columns', 100)\n",
    "\n",
    "from traffic_common import get_category_age, get_category_season, get_category_time, drop_features, cleansing, \\\n",
    "                            encode_features, conv2XYarr, transform_dataframe, bar_chart, pie_chart"
   ]
  },
  {
   "cell_type": "markdown",
   "metadata": {},
   "source": [
    "### Load Dataset and Pre-processing"
   ]
  },
  {
   "cell_type": "code",
   "execution_count": 2,
   "metadata": {},
   "outputs": [],
   "source": [
    "traffic_df = pd.read_csv('dataset/seoul_traffic.csv', encoding='euc-kr')"
   ]
  },
  {
   "cell_type": "code",
   "execution_count": 3,
   "metadata": {},
   "outputs": [
    {
     "name": "stderr",
     "output_type": "stream",
     "text": [
      "traffic_common.ipynb:6: SettingWithCopyWarning: \n",
      "A value is trying to be set on a copy of a slice from a DataFrame.\n",
      "Try using .loc[row_indexer,col_indexer] = value instead\n",
      "\n",
      "See the caveats in the documentation: https://pandas.pydata.org/pandas-docs/stable/user_guide/indexing.html#returning-a-view-versus-a-copy\n",
      "  \"metadata\": {},\n"
     ]
    }
   ],
   "source": [
    "traffic_df = transform_dataframe(traffic_df)"
   ]
  },
  {
   "cell_type": "code",
   "execution_count": 4,
   "metadata": {},
   "outputs": [
    {
     "data": {
      "text/html": [
       "<div>\n",
       "<style scoped>\n",
       "    .dataframe tbody tr th:only-of-type {\n",
       "        vertical-align: middle;\n",
       "    }\n",
       "\n",
       "    .dataframe tbody tr th {\n",
       "        vertical-align: top;\n",
       "    }\n",
       "\n",
       "    .dataframe thead th {\n",
       "        text-align: right;\n",
       "    }\n",
       "</style>\n",
       "<table border=\"1\" class=\"dataframe\">\n",
       "  <thead>\n",
       "    <tr style=\"text-align: right;\">\n",
       "      <th></th>\n",
       "      <th>acc_details</th>\n",
       "      <th>occur_date</th>\n",
       "      <th>occur_time</th>\n",
       "      <th>occur_dayofweek</th>\n",
       "      <th>acc_type_b</th>\n",
       "      <th>offender_violation</th>\n",
       "      <th>road_condition_b</th>\n",
       "      <th>wheather_status</th>\n",
       "      <th>road_type_b</th>\n",
       "      <th>offender_vehicle</th>\n",
       "      <th>offender_sex</th>\n",
       "      <th>offender_age</th>\n",
       "      <th>victim_vehicle</th>\n",
       "      <th>victim_sex</th>\n",
       "      <th>victim_age</th>\n",
       "    </tr>\n",
       "  </thead>\n",
       "  <tbody>\n",
       "    <tr>\n",
       "      <th>0</th>\n",
       "      <td>경상</td>\n",
       "      <td>Winter</td>\n",
       "      <td>Dawn</td>\n",
       "      <td>금</td>\n",
       "      <td>기타</td>\n",
       "      <td>기타</td>\n",
       "      <td>젖음/습기</td>\n",
       "      <td>맑음</td>\n",
       "      <td>기타단일로</td>\n",
       "      <td>승용차</td>\n",
       "      <td>남</td>\n",
       "      <td>중년</td>\n",
       "      <td>이륜차</td>\n",
       "      <td>남</td>\n",
       "      <td>미성년</td>\n",
       "    </tr>\n",
       "    <tr>\n",
       "      <th>1</th>\n",
       "      <td>중상</td>\n",
       "      <td>Winter</td>\n",
       "      <td>Dawn</td>\n",
       "      <td>금</td>\n",
       "      <td>추돌</td>\n",
       "      <td>안전거리 미확보</td>\n",
       "      <td>서리/결빙</td>\n",
       "      <td>맑음</td>\n",
       "      <td>기타단일로</td>\n",
       "      <td>승합차</td>\n",
       "      <td>남</td>\n",
       "      <td>중년</td>\n",
       "      <td>승용차</td>\n",
       "      <td>남</td>\n",
       "      <td>장년</td>\n",
       "    </tr>\n",
       "    <tr>\n",
       "      <th>2</th>\n",
       "      <td>경상</td>\n",
       "      <td>Winter</td>\n",
       "      <td>Dawn</td>\n",
       "      <td>금</td>\n",
       "      <td>추돌</td>\n",
       "      <td>기타</td>\n",
       "      <td>서리/결빙</td>\n",
       "      <td>흐림</td>\n",
       "      <td>기타단일로</td>\n",
       "      <td>승용차</td>\n",
       "      <td>남</td>\n",
       "      <td>중년</td>\n",
       "      <td>승용차</td>\n",
       "      <td>남</td>\n",
       "      <td>중년</td>\n",
       "    </tr>\n",
       "    <tr>\n",
       "      <th>3</th>\n",
       "      <td>경상</td>\n",
       "      <td>Winter</td>\n",
       "      <td>Dawn</td>\n",
       "      <td>금</td>\n",
       "      <td>기타</td>\n",
       "      <td>안전거리 미확보</td>\n",
       "      <td>건조</td>\n",
       "      <td>맑음</td>\n",
       "      <td>교차로부근</td>\n",
       "      <td>승용차</td>\n",
       "      <td>남</td>\n",
       "      <td>중년</td>\n",
       "      <td>승용차</td>\n",
       "      <td>남</td>\n",
       "      <td>중년</td>\n",
       "    </tr>\n",
       "    <tr>\n",
       "      <th>4</th>\n",
       "      <td>경상</td>\n",
       "      <td>Winter</td>\n",
       "      <td>Dawn</td>\n",
       "      <td>금</td>\n",
       "      <td>정면충돌</td>\n",
       "      <td>신호위반</td>\n",
       "      <td>건조</td>\n",
       "      <td>맑음</td>\n",
       "      <td>교차로내</td>\n",
       "      <td>승용차</td>\n",
       "      <td>남</td>\n",
       "      <td>청년</td>\n",
       "      <td>승용차</td>\n",
       "      <td>남</td>\n",
       "      <td>중년</td>\n",
       "    </tr>\n",
       "  </tbody>\n",
       "</table>\n",
       "</div>"
      ],
      "text/plain": [
       "  acc_details occur_date occur_time occur_dayofweek acc_type_b  \\\n",
       "0          경상     Winter       Dawn               금         기타   \n",
       "1          중상     Winter       Dawn               금         추돌   \n",
       "2          경상     Winter       Dawn               금         추돌   \n",
       "3          경상     Winter       Dawn               금         기타   \n",
       "4          경상     Winter       Dawn               금       정면충돌   \n",
       "\n",
       "  offender_violation road_condition_b wheather_status road_type_b  \\\n",
       "0                 기타            젖음/습기              맑음       기타단일로   \n",
       "1           안전거리 미확보            서리/결빙              맑음       기타단일로   \n",
       "2                 기타            서리/결빙              흐림       기타단일로   \n",
       "3           안전거리 미확보               건조              맑음       교차로부근   \n",
       "4               신호위반               건조              맑음        교차로내   \n",
       "\n",
       "  offender_vehicle offender_sex offender_age victim_vehicle victim_sex  \\\n",
       "0              승용차            남           중년            이륜차          남   \n",
       "1              승합차            남           중년            승용차          남   \n",
       "2              승용차            남           중년            승용차          남   \n",
       "3              승용차            남           중년            승용차          남   \n",
       "4              승용차            남           청년            승용차          남   \n",
       "\n",
       "  victim_age  \n",
       "0        미성년  \n",
       "1         장년  \n",
       "2         중년  \n",
       "3         중년  \n",
       "4         중년  "
      ]
     },
     "execution_count": 4,
     "metadata": {},
     "output_type": "execute_result"
    }
   ],
   "source": [
    "traffic_df.head()"
   ]
  },
  {
   "cell_type": "code",
   "execution_count": 5,
   "metadata": {},
   "outputs": [],
   "source": [
    "X = traffic_df.iloc[:,1:]\n",
    "Y = traffic_df.iloc[:,0]"
   ]
  },
  {
   "cell_type": "code",
   "execution_count": 6,
   "metadata": {},
   "outputs": [],
   "source": [
    "X = pd.get_dummies(X)\n",
    "Y = pd.get_dummies(Y).iloc[:,1]"
   ]
  },
  {
   "cell_type": "code",
   "execution_count": 7,
   "metadata": {},
   "outputs": [],
   "source": [
    "X_occurdate = X.iloc[:,0:4]\n",
    "X_occurtime = X.iloc[:,4:7]\n",
    "X_dayofweek = X.iloc[:,7:14]\n",
    "X_acctype = X.iloc[:,14:23]\n",
    "X_offenderviolation = X.iloc[:,23:31]\n",
    "X_roadcondition = X.iloc[:,31:35]\n",
    "X_wheatherstatus =  X.iloc[:,35:39]\n",
    "X_roadtype = X.iloc[:,39:49]\n",
    "X_offendervehicle = X.iloc[:,49:57]\n",
    "X_offendersex = X.iloc[:,57:59]\n",
    "X_offenderage = X.iloc[:,59:64]\n",
    "X_victimvehicle = X.iloc[:,64:73]\n",
    "X_victimsex = X.iloc[:,73:75]\n",
    "X_victimage = X.iloc[:,75:80]"
   ]
  },
  {
   "cell_type": "markdown",
   "metadata": {},
   "source": [
    "### LogisticRegression"
   ]
  },
  {
   "cell_type": "code",
   "execution_count": 8,
   "metadata": {},
   "outputs": [],
   "source": [
    "def rmsle(y, pred):\n",
    "    log_y = np.log1p(y)\n",
    "    log_pred = np.log1p(pred)\n",
    "    squared_error = (log_y - log_pred) ** 2\n",
    "    rmsle = np.sqrt(np.mean(squared_error))\n",
    "    return rmsle\n",
    "\n",
    "def rmse(y, pred):\n",
    "    return np.sqrt(mean_squared_error(y, pred))\n",
    "\n",
    "def evaluate(y, pred):\n",
    "    rmsle_val = rmsle(y, pred)\n",
    "    rmse_val = rmse(y, pred)\n",
    "    mae_val = mean_absolute_error(y, pred)\n",
    "    print('RMSLE: {0:.4f}, RMSE: {1:.4f}, MAE: {2:.4f}'.format(rmsle_val, rmse_val, mae_val))"
   ]
  },
  {
   "cell_type": "code",
   "execution_count": 9,
   "metadata": {},
   "outputs": [],
   "source": [
    "X_train, X_test, y_train, y_test = train_test_split(X, Y, \n",
    "                                                    random_state=1) "
   ]
  },
  {
   "cell_type": "code",
   "execution_count": 10,
   "metadata": {
    "scrolled": true
   },
   "outputs": [
    {
     "name": "stdout",
     "output_type": "stream",
     "text": [
      "***** penalty :  l1\n",
      "*** C :  0.001\n",
      "RMSLE: 0.3955, RMSE: 0.5706, MAE: 73.1889\n",
      "              precision    recall  f1-score   support\n",
      "\n",
      "           0       0.68      0.94      0.79     57994\n",
      "           1       0.63      0.19      0.29     31648\n",
      "\n",
      "    accuracy                           0.67     89642\n",
      "   macro avg       0.66      0.56      0.54     89642\n",
      "weighted avg       0.66      0.67      0.61     89642\n",
      "\n",
      "훈련 세트의 정확도 : 0.6743\n",
      "테스트 세트의 정확도 : 0.6744\n",
      "\n",
      "\n",
      "\n",
      "*** C :  0.01\n",
      "RMSLE: 0.3904, RMSE: 0.5631, MAE: 63.7788\n",
      "              precision    recall  f1-score   support\n",
      "\n",
      "           0       0.70      0.90      0.79     57994\n",
      "           1       0.61      0.29      0.39     31648\n",
      "\n",
      "    accuracy                           0.68     89642\n",
      "   macro avg       0.65      0.59      0.59     89642\n",
      "weighted avg       0.67      0.68      0.65     89642\n",
      "\n",
      "훈련 세트의 정확도 : 0.6823\n",
      "테스트 세트의 정확도 : 0.6830\n",
      "\n",
      "\n",
      "\n",
      "*** C :  0.1\n",
      "RMSLE: 0.3894, RMSE: 0.5618, MAE: 62.4428\n",
      "              precision    recall  f1-score   support\n",
      "\n",
      "           0       0.70      0.89      0.78     57994\n",
      "           1       0.60      0.31      0.41     31648\n",
      "\n",
      "    accuracy                           0.68     89642\n",
      "   macro avg       0.65      0.60      0.60     89642\n",
      "weighted avg       0.67      0.68      0.65     89642\n",
      "\n",
      "훈련 세트의 정확도 : 0.6835\n",
      "테스트 세트의 정확도 : 0.6844\n",
      "\n",
      "\n",
      "\n",
      "*** C :  1\n",
      "RMSLE: 0.3896, RMSE: 0.5618, MAE: 62.3266\n",
      "              precision    recall  f1-score   support\n",
      "\n",
      "           0       0.70      0.89      0.78     57994\n",
      "           1       0.60      0.31      0.41     31648\n",
      "\n",
      "    accuracy                           0.68     89642\n",
      "   macro avg       0.65      0.60      0.60     89642\n",
      "weighted avg       0.67      0.68      0.65     89642\n",
      "\n",
      "훈련 세트의 정확도 : 0.6837\n",
      "테스트 세트의 정확도 : 0.6844\n",
      "\n",
      "\n",
      "\n",
      "*** C :  10\n"
     ]
    },
    {
     "name": "stderr",
     "output_type": "stream",
     "text": [
      "C:\\Users\\hyunc\\Anaconda3\\lib\\site-packages\\sklearn\\linear_model\\_sag.py:329: ConvergenceWarning: The max_iter was reached which means the coef_ did not converge\n",
      "  \"the coef_ did not converge\", ConvergenceWarning)\n"
     ]
    },
    {
     "name": "stdout",
     "output_type": "stream",
     "text": [
      "RMSLE: 0.3896, RMSE: 0.5618, MAE: 62.3238\n",
      "              precision    recall  f1-score   support\n",
      "\n",
      "           0       0.70      0.89      0.78     57994\n",
      "           1       0.60      0.31      0.41     31648\n",
      "\n",
      "    accuracy                           0.68     89642\n",
      "   macro avg       0.65      0.60      0.60     89642\n",
      "weighted avg       0.67      0.68      0.65     89642\n",
      "\n",
      "훈련 세트의 정확도 : 0.6836\n",
      "테스트 세트의 정확도 : 0.6844\n",
      "\n",
      "\n",
      "\n",
      "*** C :  100\n"
     ]
    },
    {
     "name": "stderr",
     "output_type": "stream",
     "text": [
      "C:\\Users\\hyunc\\Anaconda3\\lib\\site-packages\\sklearn\\linear_model\\_sag.py:329: ConvergenceWarning: The max_iter was reached which means the coef_ did not converge\n",
      "  \"the coef_ did not converge\", ConvergenceWarning)\n"
     ]
    },
    {
     "name": "stdout",
     "output_type": "stream",
     "text": [
      "RMSLE: 0.3896, RMSE: 0.5618, MAE: 62.3210\n",
      "              precision    recall  f1-score   support\n",
      "\n",
      "           0       0.70      0.89      0.78     57994\n",
      "           1       0.60      0.31      0.41     31648\n",
      "\n",
      "    accuracy                           0.68     89642\n",
      "   macro avg       0.65      0.60      0.60     89642\n",
      "weighted avg       0.67      0.68      0.65     89642\n",
      "\n",
      "훈련 세트의 정확도 : 0.6836\n",
      "테스트 세트의 정확도 : 0.6844\n",
      "\n",
      "\n",
      "\n",
      "***** penalty :  l2\n",
      "*** C :  0.001\n",
      "RMSLE: 0.3909, RMSE: 0.5639, MAE: 65.8057\n",
      "              precision    recall  f1-score   support\n",
      "\n",
      "           0       0.69      0.91      0.79     57994\n",
      "           1       0.61      0.27      0.37     31648\n",
      "\n",
      "    accuracy                           0.68     89642\n",
      "   macro avg       0.65      0.59      0.58     89642\n",
      "weighted avg       0.67      0.68      0.64     89642\n",
      "\n",
      "훈련 세트의 정확도 : 0.6809\n",
      "테스트 세트의 정확도 : 0.6820\n",
      "\n",
      "\n",
      "\n",
      "*** C :  0.01\n",
      "RMSLE: 0.3896, RMSE: 0.5621, MAE: 62.7888\n",
      "              precision    recall  f1-score   support\n",
      "\n",
      "           0       0.70      0.89      0.79     57994\n",
      "           1       0.60      0.30      0.40     31648\n",
      "\n",
      "    accuracy                           0.68     89642\n",
      "   macro avg       0.65      0.60      0.59     89642\n",
      "weighted avg       0.67      0.68      0.65     89642\n",
      "\n",
      "훈련 세트의 정확도 : 0.6834\n",
      "테스트 세트의 정확도 : 0.6840\n",
      "\n",
      "\n",
      "\n",
      "*** C :  0.1\n",
      "RMSLE: 0.3896, RMSE: 0.5619, MAE: 62.3579\n",
      "              precision    recall  f1-score   support\n",
      "\n",
      "           0       0.70      0.89      0.78     57994\n",
      "           1       0.60      0.31      0.41     31648\n",
      "\n",
      "    accuracy                           0.68     89642\n",
      "   macro avg       0.65      0.60      0.60     89642\n",
      "weighted avg       0.67      0.68      0.65     89642\n",
      "\n",
      "훈련 세트의 정확도 : 0.6836\n",
      "테스트 세트의 정확도 : 0.6843\n",
      "\n",
      "\n",
      "\n",
      "*** C :  1\n",
      "RMSLE: 0.3896, RMSE: 0.5618, MAE: 62.3266\n",
      "              precision    recall  f1-score   support\n",
      "\n",
      "           0       0.70      0.89      0.78     57994\n",
      "           1       0.60      0.31      0.41     31648\n",
      "\n",
      "    accuracy                           0.68     89642\n",
      "   macro avg       0.65      0.60      0.60     89642\n",
      "weighted avg       0.67      0.68      0.65     89642\n",
      "\n",
      "훈련 세트의 정확도 : 0.6836\n",
      "테스트 세트의 정확도 : 0.6844\n",
      "\n",
      "\n",
      "\n",
      "*** C :  10\n",
      "RMSLE: 0.3896, RMSE: 0.5618, MAE: 62.3238\n",
      "              precision    recall  f1-score   support\n",
      "\n",
      "           0       0.70      0.89      0.78     57994\n",
      "           1       0.60      0.31      0.41     31648\n",
      "\n",
      "    accuracy                           0.68     89642\n",
      "   macro avg       0.65      0.60      0.60     89642\n",
      "weighted avg       0.67      0.68      0.65     89642\n",
      "\n",
      "훈련 세트의 정확도 : 0.6836\n",
      "테스트 세트의 정확도 : 0.6844\n",
      "\n",
      "\n",
      "\n",
      "*** C :  100\n",
      "RMSLE: 0.3896, RMSE: 0.5618, MAE: 62.3210\n",
      "              precision    recall  f1-score   support\n",
      "\n",
      "           0       0.70      0.89      0.78     57994\n",
      "           1       0.60      0.31      0.41     31648\n",
      "\n",
      "    accuracy                           0.68     89642\n",
      "   macro avg       0.65      0.60      0.60     89642\n",
      "weighted avg       0.67      0.68      0.65     89642\n",
      "\n",
      "훈련 세트의 정확도 : 0.6836\n",
      "테스트 세트의 정확도 : 0.6844\n",
      "\n",
      "\n",
      "\n"
     ]
    }
   ],
   "source": [
    "penalties = ['l1', 'l2']\n",
    "Cs = [0.001, 0.01, 0.1, 1, 10, 100]\n",
    "\n",
    "for penalty in penalties:\n",
    "    print('-------------------')\n",
    "    for C in Cs:\n",
    "        print('***** penalty : ', penalty)\n",
    "        print('*** C : ', C)\n",
    "        logistic = LogisticRegression(penalty=penalty, C=C, solver='saga')    \n",
    "        logistic.fit(X_train, y_train)\n",
    "        logistic_pred = logistic.predict(X_test)    \n",
    "        evaluate(y_test, np.around(logistic_pred))\n",
    "\n",
    "        print(classification_report(y_test, logistic_pred))\n",
    "        print(\"Training set accuracy : {:.4f}\".format(logistic.score(X_train,y_train)))\n",
    "        print(\"Test set accuracy : {:.4f}\".format(logistic.score(X_test,y_test)))\n",
    "        print(\"\\n\\n\")"
   ]
  },
  {
   "cell_type": "code",
   "execution_count": 18,
   "metadata": {},
   "outputs": [],
   "source": [
    "logistic = LogisticRegression(penalty='l1', C=1, solver='saga')    "
   ]
  },
  {
   "cell_type": "code",
   "execution_count": 19,
   "metadata": {},
   "outputs": [],
   "source": [
    "logistic.fit(X_train, y_train)\n",
    "logistic_pred = logistic.predict(X_test) "
   ]
  },
  {
   "cell_type": "code",
   "execution_count": 25,
   "metadata": {},
   "outputs": [
    {
     "data": {
      "text/plain": [
       "<AxesSubplot:title={'center':'logistic'}>"
      ]
     },
     "execution_count": 25,
     "metadata": {},
     "output_type": "execute_result"
    },
    {
     "data": {
      "image/png": "[encoded data removed]",
      "text/plain": [
       "<Figure size 432x432 with 1 Axes>"
      ]
     },
     "metadata": {
      "needs_background": "light"
     },
     "output_type": "display_data"
    }
   ],
   "source": [
    "fig, axs = plt.subplots(figsize=(6,6), nrows=1, ncols=1)\n",
    "coeff_df = pd.DataFrame()\n",
    "\n",
    "coeff = pd.Series(data=logistic.coef_[0], index=X.columns)\n",
    "colname='logistic'\n",
    "coeff_df[colname] = coeff\n",
    "coeff_high = coeff.sort_values(ascending=False)\n",
    "coeff_low = coeff.sort_values(ascending=False)\n",
    "coeff_concat = pd.concat([coeff_high])\n",
    "axs.set_title(colname)\n",
    "axs.set_xlim(-2,2)\n",
    "sns.barplot(x=coeff_concat.values, y=coeff_concat.index, ax=axs)"
   ]
  },
  {
   "cell_type": "code",
   "execution_count": 26,
   "metadata": {
    "scrolled": true
   },
   "outputs": [
    {
     "data": {
      "text/plain": [
       "offender_violation_과속             1.849005e+00\n",
       "victim_vehicle_이륜차                6.884867e-01\n",
       "victim_vehicle_원동기장치자전거           6.717326e-01\n",
       "victim_age_노년                     5.818960e-01\n",
       "victim_vehicle_보행자                5.254184e-01\n",
       "victim_vehicle_자전거                5.199808e-01\n",
       "offender_violation_중앙선 침범         4.804641e-01\n",
       "acc_type_b_횡단중                    4.095840e-01\n",
       "offender_violation_신호위반           4.005424e-01\n",
       "offender_vehicle_건설기계             3.729609e-01\n",
       "road_type_b_터널안                   3.004290e-01\n",
       "acc_type_b_정면충돌                   2.723240e-01\n",
       "occur_time_Dawn                   2.701926e-01\n",
       "victim_age_중년                     1.980081e-01\n",
       "offender_vehicle_특수차              1.928213e-01\n",
       "road_type_b_교량위                   1.544860e-01\n",
       "acc_type_b_차도통행중                  1.262584e-01\n",
       "offender_vehicle_승합차              7.208187e-02\n",
       "offender_age_청년                   7.180122e-02\n",
       "road_condition_b_적설               7.158345e-02\n",
       "offender_age_장년                   6.152713e-02\n",
       "road_type_b_지하차도(도로)내             5.549716e-02\n",
       "road_type_b_고가도로위                 4.261480e-02\n",
       "wheather_status_흐림                3.716948e-02\n",
       "occur_dayofweek_일                 3.238684e-02\n",
       "acc_type_b_보도통행중                  3.031706e-02\n",
       "road_type_b_횡단보도부근                1.635925e-02\n",
       "occur_dayofweek_금                 1.184321e-02\n",
       "occur_date_Spring                 8.456712e-03\n",
       "offender_vehicle_화물차              4.969182e-03\n",
       "offender_violation_안전운전 의무 불이행    3.128530e-03\n",
       "occur_dayofweek_목                 2.896436e-03\n",
       "offender_sex_여                    1.765785e-03\n",
       "occur_date_Autumn                 1.713594e-03\n",
       "wheather_status_맑음                1.691578e-03\n",
       "victim_sex_여                      1.653555e-03\n",
       "road_condition_b_젖음/습기            1.548685e-03\n",
       "victim_age_장년                     7.415252e-07\n",
       "offender_age_미성년                  0.000000e+00\n",
       "occur_dayofweek_수                 0.000000e+00\n",
       "acc_type_b_추돌                    -2.503271e-06\n",
       "occur_time_Night                 -1.204333e-05\n",
       "victim_vehicle_승합차               -2.424485e-05\n",
       "offender_sex_남                   -4.428308e-03\n",
       "offender_age_중년                  -5.453542e-03\n",
       "victim_vehicle_건설기계              -5.833163e-03\n",
       "offender_age_노년                  -9.186009e-03\n",
       "occur_dayofweek_월                -9.987429e-03\n",
       "occur_date_Summer                -1.171956e-02\n",
       "occur_dayofweek_토                -1.380887e-02\n",
       "occur_dayofweek_화                -1.523944e-02\n",
       "occur_time_Day                   -1.705902e-02\n",
       "wheather_status_비                -2.009522e-02\n",
       "road_condition_b_서리/결빙           -2.993995e-02\n",
       "acc_type_b_측면충돌                  -3.088547e-02\n",
       "offender_violation_보행자 보호의무 위반   -3.346306e-02\n",
       "occur_date_Winter                -3.635203e-02\n",
       "offender_vehicle_이륜차             -4.858131e-02\n",
       "road_condition_b_건조              -5.297867e-02\n",
       "offender_vehicle_원동기장치자전거        -5.790115e-02\n",
       "road_type_b_횡단보도상                -6.117108e-02\n",
       "wheather_status_눈                -6.882471e-02\n",
       "road_type_b_교차로내                 -8.368373e-02\n",
       "offender_vehicle_자전거             -8.401958e-02\n",
       "acc_type_b_기타                    -1.016114e-01\n",
       "offender_violation_교차로 통행방법 위반   -1.019546e-01\n",
       "offender_violation_기타            -1.083979e-01\n",
       "offender_violation_안전거리 미확보      -1.139643e-01\n",
       "road_type_b_기타단일로                -1.551473e-01\n",
       "victim_vehicle_특수차               -1.571573e-01\n",
       "victim_sex_남                     -1.950878e-01\n",
       "victim_age_청년                    -2.057055e-01\n",
       "road_type_b_교차로부근                -2.104671e-01\n",
       "offender_vehicle_승용차             -2.190875e-01\n",
       "victim_vehicle_화물차               -2.659385e-01\n",
       "road_type_b_교차로횡단보도내             -3.827732e-01\n",
       "victim_age_미성년                   -3.908511e-01\n",
       "acc_type_b_길가장자리구역통행중            -4.470653e-01\n",
       "victim_vehicle_승용차               -4.670306e-01\n",
       "acc_type_b_후진중충돌                 -1.090228e+00\n",
       "dtype: float64"
      ]
     },
     "execution_count": 26,
     "metadata": {},
     "output_type": "execute_result"
    }
   ],
   "source": [
    "coeff_high"
   ]
  },
  {
   "cell_type": "code",
   "execution_count": 24,
   "metadata": {},
   "outputs": [
    {
     "data": {
      "text/plain": [
       "victim_sex_남            -0.195088\n",
       "victim_age_청년           -0.205706\n",
       "road_type_b_교차로부근       -0.210467\n",
       "offender_vehicle_승용차    -0.219088\n",
       "victim_vehicle_화물차      -0.265939\n",
       "road_type_b_교차로횡단보도내    -0.382773\n",
       "victim_age_미성년          -0.390851\n",
       "acc_type_b_길가장자리구역통행중   -0.447065\n",
       "victim_vehicle_승용차      -0.467031\n",
       "acc_type_b_후진중충돌        -1.090228\n",
       "dtype: float64"
      ]
     },
     "execution_count": 24,
     "metadata": {},
     "output_type": "execute_result"
    }
   ],
   "source": [
    "coeff_low"
   ]
  }
 ],
 "metadata": {
  "kernelspec": {
   "display_name": "Python 3",
   "language": "python",
   "name": "python3"
  },
  "language_info": {
   "codemirror_mode": {
    "name": "ipython",
    "version": 3
   },
   "file_extension": ".py",
   "mimetype": "text/x-python",
   "name": "python",
   "nbconvert_exporter": "python",
   "pygments_lexer": "ipython3",
   "version": "3.8.8"
  }
 },
 "nbformat": 4,
 "nbformat_minor": 4
}
