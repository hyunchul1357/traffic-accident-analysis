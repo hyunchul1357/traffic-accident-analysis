{
 "cells": [
  {
   "cell_type": "code",
   "execution_count": 1,
   "metadata": {},
   "outputs": [],
   "source": [
    "import import_ipynb\n",
    "\n",
    "import pandas as pd\n",
    "import numpy as np\n",
    "import matplotlib.pyplot as plt\n",
    "%matplotlib inline\n",
    "\n",
    "from sklearn.preprocessing import LabelEncoder"
   ]
  },
  {
   "cell_type": "code",
   "execution_count": 2,
   "metadata": {},
   "outputs": [],
   "source": [
    "#연령값을 나잇대별로 카테고리화\n",
    "def get_category_age(age):\n",
    "    if age<20: cat='미성년'\n",
    "    elif age<35: cat='청년'\n",
    "    elif age<50: cat='장년'\n",
    "    elif age<65: cat='중년'\n",
    "    else : cat='노년'\n",
    "        \n",
    "    return cat"
   ]
  },
  {
   "cell_type": "code",
   "execution_count": 3,
   "metadata": {},
   "outputs": [],
   "source": [
    "def get_category_season(date):\n",
    "    date = date[4:6]\n",
    "    if date=='12' or date=='01' or date=='02': cat='Winter'\n",
    "    elif date=='03' or date=='04' or date=='05': cat='Spring'\n",
    "    elif date=='06' or date=='07' or date=='08': cat='Summer'\n",
    "    else : cat='Autumn'\n",
    "        \n",
    "    return cat"
   ]
  },
  {
   "cell_type": "code",
   "execution_count": 4,
   "metadata": {},
   "outputs": [],
   "source": [
    "def get_category_time(time):\n",
    "    time = time[:2]\n",
    "    if time=='00' or time=='01' or time=='02' or time=='03' or time=='04' or time=='05': cat='Dawn'\n",
    "    elif time=='18' or time=='19' or time=='20' or time=='21' or time=='22' or time=='23': cat='Night'\n",
    "    else : cat='Day'\n",
    "        \n",
    "    return cat"
   ]
  },
  {
   "cell_type": "code",
   "execution_count": 2,
   "metadata": {},
   "outputs": [],
   "source": [
    "#쓸모없는 피처 제거\n",
    "def drop_features(df):\n",
    "    df.drop(['place_gu','acc_type_c', 'road_condition_a' ,'place_dong' , 'victim_injury', 'offender_injury', 'acc_type_a',\n",
    "            'road_type_a'],\n",
    "            axis=1, inplace=True)\n",
    "    return df"
   ]
  },
  {
   "cell_type": "code",
   "execution_count": 6,
   "metadata": {},
   "outputs": [],
   "source": [
    "# 불명/없음/null값을 가진 투플 제거 또는 기타로 분류, 나이는 연령별로 카테고리화\n",
    "# 사고내용 사망 -> 중상으로 처리\n",
    "def cleansing(df):        \n",
    "    df = df.dropna(axis=0)    \n",
    "    \n",
    "    df['acc_details']=df['acc_details'].str.replace(\"사망\",\"중상\")\n",
    "    df = df[df['acc_details'] != '부상신고']\n",
    "    \n",
    "    df = df.astype({'occur_date':'str'})\n",
    "    df['occur_date']=df['occur_date'].apply(lambda x : get_category_season(x))   \n",
    "    \n",
    "    df['occur_time']=df['occur_time'].apply(lambda x : get_category_time(x))   \n",
    "     \n",
    "    #df = df[df['acc_type_a'] != '철길건널목']\n",
    "    \n",
    "    df['acc_type_b']=df['acc_type_b'].str.replace(\"전도\",\"전도/전복\") \n",
    "    df['acc_type_b']=df['acc_type_b'].str.replace(\"전복\",\"전도/전복\") \n",
    "    df['acc_type_b']=df['acc_type_b'].str.replace(\"전도전복\",\"전도/전복\")     \n",
    "    df['acc_type_b']=df['acc_type_b'].str.replace(\"주/정차차량 충돌\",\"기타\")  \n",
    "    df['acc_type_b']=df['acc_type_b'].str.replace(\"도로이탈\",\"기타\") \n",
    "    \n",
    "    df['road_condition_b']=df['road_condition_b'].str.replace(\"침수\",\"기타\")    \n",
    "    df['road_condition_b']=df['road_condition_b'].str.replace(\"해빙\",\"기타\") \n",
    "    df = df[df['road_condition_b'] != '기타']\n",
    "    \n",
    "    df['wheather_status']=df['wheather_status'].str.replace(\"안개\",\"흐림\")    \n",
    "    df = df[df['wheather_status'] != '기타/불명']\n",
    "    \n",
    "    #df['road_type_a']=df['road_type_a'].str.replace(\"기타/불명\",\"기타\")   \n",
    "    #df['road_type_a']=df['road_type_a'].str.replace(\"불명\",\"기타\")  \n",
    "    #df['road_type_a']=df['road_type_a'].str.replace(\"철길건널목\", \"기타\")\n",
    "    \n",
    "    df['road_type_b']=df['road_type_b'].str.replace(\"기타/불명\",\"기타\")   \n",
    "    df['road_type_b']=df['road_type_b'].str.replace(\"철길건널목\",\"기타\")  \n",
    "    df['road_type_b']=df['road_type_b'].str.replace(\"불명\",\"기타\")\n",
    "    df = df[df['road_type_b'] != '기타']\n",
    "    \n",
    "    df['offender_vehicle']=df['offender_vehicle'].str.replace(\"불명\",\"기타\")\n",
    "    df['offender_vehicle']=df['offender_vehicle'].str.replace(\"개인형이동수단(PM)\",\"기타\")\n",
    "    df['offender_vehicle']=df['offender_vehicle'].str.replace(\"농기계\",\"기타\")\n",
    "    df['offender_vehicle']=df['offender_vehicle'].str.replace(\"사륜오토바이(ATV)\",\"기타\")\n",
    "    df = df[df['offender_vehicle'] != '기타']\n",
    "    \n",
    "    df = df[df['offender_sex'] != '기타불명']\n",
    "    \n",
    "    df = df[df['offender_age'] != '불명']\n",
    "\n",
    "    df['victim_vehicle']=df['victim_vehicle'].str.replace(\"불명\",\"기타\")\n",
    "    df['victim_vehicle']=df['victim_vehicle'].str.replace(\"개인형이동수단(PM)\",\"기타\")\n",
    "    df['victim_vehicle']=df['victim_vehicle'].str.replace(\"농기계\",\"기타\")\n",
    "    df['victim_vehicle']=df['victim_vehicle'].str.replace(\"사륜오토바이(ATV)\",\"기타\")\n",
    "    df['victim_vehicle']=df['victim_vehicle'].str.replace(\"열차\",\"기타\")\n",
    "    df = df[df['victim_vehicle'] != '기타']\n",
    "    \n",
    "    df = df[df['victim_sex'] != '없음']\n",
    "    df = df[df['victim_sex'] != '기타불명']\n",
    "    \n",
    "    df = df[df['victim_age'] != '불명']\n",
    "    \n",
    "    #나잇값 카테고리화 (미성년, 청년, 중년, 장년, 노년)\n",
    "    df['offender_age'] = df['offender_age'].str.replace(\"세\",\"\")\n",
    "    df['victim_age'] = df['victim_age'].str.replace(\"세\",\"\")\n",
    "    df = df.astype({'offender_age':'int', 'victim_age':'int'})\n",
    "    \n",
    "    df['offender_age']=df['offender_age'].apply(lambda x : get_category_age(x))\n",
    "    df['victim_age']=df['victim_age'].apply(lambda x : get_category_age(x))        \n",
    "    return df"
   ]
  },
  {
   "cell_type": "code",
   "execution_count": 7,
   "metadata": {},
   "outputs": [],
   "source": [
    "#레이블 인코딩\n",
    "def encode_features(org_df):\n",
    "    encode_df = org_df.copy()\n",
    "    \n",
    "    for feature in encode_df.columns:\n",
    "        le = LabelEncoder()\n",
    "        le = le.fit(encode_df[feature])\n",
    "        print(feature, '인코딩 클래스:', le.classes_)\n",
    "        encode_df[feature] = le.transform(encode_df[feature])\n",
    "    \n",
    "    return encode_df"
   ]
  },
  {
   "cell_type": "code",
   "execution_count": 8,
   "metadata": {},
   "outputs": [],
   "source": [
    "# 데이터프레임을 인코딩한 뒤 X,Y로 분리하고 ndarray로 변환하여 반환\n",
    "def conv2XYarr(df):\n",
    "    copy_df = df.copy()\n",
    "    encoder =  LabelEncoder()\n",
    "    \n",
    "    y = copy_df.iloc[:,0].values\n",
    "    y_encode = encoder.fit_transform(y)\n",
    "    Y = pd.get_dummies(y_encode).values\n",
    "    \n",
    "    #copy_df = pd.get_dummies(copy_df, drop_first=True)\n",
    "    copy_df = pd.get_dummies(copy_df, drop_first=False)\n",
    "    X = copy_df.iloc[:,2:].values\n",
    "    return X,Y, copy_df"
   ]
  },
  {
   "cell_type": "code",
   "execution_count": 9,
   "metadata": {},
   "outputs": [],
   "source": [
    "def transform_dataframe(df):\n",
    "    df = drop_features(df)\n",
    "    df = cleansing(df)\n",
    "    return df"
   ]
  },
  {
   "cell_type": "code",
   "execution_count": 10,
   "metadata": {},
   "outputs": [],
   "source": [
    "def bar_chart(df, feature):\n",
    "    slight = df[df['acc_details']=='경상'][feature].value_counts()\n",
    "    serious = df[df['acc_details']=='중상'][feature].value_counts()\n",
    "    df_ = pd.DataFrame([slight,serious])\n",
    "    df_.index = ['경상','중상']\n",
    "    df_.plot(kind='bar')"
   ]
  },
  {
   "cell_type": "code",
   "execution_count": 11,
   "metadata": {},
   "outputs": [],
   "source": [
    "def pie_chart(df, feature): \n",
    "    feature_ratio = df[feature].value_counts(sort=False) \n",
    "    feature_size = feature_ratio.size \n",
    "    feature_index = feature_ratio.index \n",
    "    slight = df[df['acc_details'] == '경상'][feature].value_counts() \n",
    "    serious = df[df['acc_details'] == '중상'][feature].value_counts() \n",
    "    plt.plot(aspect='auto') \n",
    "    \n",
    "    plt.pie(feature_ratio, labels=feature_index, autopct='%1.1f%%') \n",
    "    plt.title(feature + '\\'s ratio in total') \n",
    "    plt.show() \n",
    "    \n",
    "    for i, index in enumerate(feature_index): \n",
    "        plt.subplot(1, feature_size + 1, i + 1, aspect='equal') \n",
    "        plt.pie([slight[index], serious[index]], labels=['경상', '중상'], autopct='%1.1f%%') \n",
    "        plt.title(str(index)) \n",
    "    \n",
    "    plt.show()"
   ]
  },
  {
   "cell_type": "code",
   "execution_count": null,
   "metadata": {},
   "outputs": [],
   "source": []
  }
 ],
 "metadata": {
  "kernelspec": {
   "display_name": "Python 3",
   "language": "python",
   "name": "python3"
  },
  "language_info": {
   "codemirror_mode": {
    "name": "ipython",
    "version": 3
   },
   "file_extension": ".py",
   "mimetype": "text/x-python",
   "name": "python",
   "nbconvert_exporter": "python",
   "pygments_lexer": "ipython3",
   "version": "3.6.12"
  }
 },
 "nbformat": 4,
 "nbformat_minor": 4
}
