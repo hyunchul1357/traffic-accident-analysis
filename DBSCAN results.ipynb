{
 "cells": [
  {
   "cell_type": "markdown",
   "metadata": {},
   "source": [
    "### PCA Visualization"
   ]
  },
  {
   "cell_type": "code",
   "execution_count": 15,
   "metadata": {},
   "outputs": [
    {
     "data": {
      "text/plain": [
       "<matplotlib.collections.PathCollection at 0x229aa374d68>"
      ]
     },
     "execution_count": 15,
     "metadata": {},
     "output_type": "execute_result"
    },
    {
     "data": {
      "image/png": "[encoded data removed]",
      "text/plain": [
       "<Figure size 432x288 with 1 Axes>"
      ]
     },
     "metadata": {
      "needs_background": "light"
     },
     "output_type": "display_data"
    }
   ],
   "source": [
    "pca_dbscan = PCA(n_components=2)\n",
    "pc_dbscan = pca_dbscan.fit_transform(X_dbscan)\n",
    "plt.scatter(pc_dbscan[:,0], pc_dbscan[:,1])"
   ]
  },
  {
   "cell_type": "markdown",
   "metadata": {},
   "source": [
    "### Check the distribution of variables by cluster"
   ]
  },
  {
   "cell_type": "code",
   "execution_count": 16,
   "metadata": {},
   "outputs": [],
   "source": [
    "dbscan_gr0_df = X_dbscan[X_dbscan['dbscan_labels'] == 0]\n",
    "dbscan_gr1_df = X_dbscan[X_dbscan['dbscan_labels'] == 1]\n",
    "dbscan_gr2_df = X_dbscan[X_dbscan['dbscan_labels'] == 2]"
   ]
  },
  {
   "cell_type": "code",
   "execution_count": 17,
   "metadata": {
    "scrolled": false
   },
   "outputs": [
    {
     "data": {
      "text/plain": [
       "occur_date_Autumn                 0.264942\n",
       "occur_date_Spring                 0.259603\n",
       "occur_date_Summer                 0.231959\n",
       "occur_date_Winter                 0.243496\n",
       "occur_time_Dawn                   0.266349\n",
       "occur_time_Day                    0.474971\n",
       "occur_time_Night                  0.258680\n",
       "occur_dayofweek_금                 0.161356\n",
       "occur_dayofweek_목                 0.140063\n",
       "occur_dayofweek_수                 0.137317\n",
       "occur_dayofweek_월                 0.124615\n",
       "occur_dayofweek_일                 0.131581\n",
       "occur_dayofweek_토                 0.168762\n",
       "occur_dayofweek_화                 0.136306\n",
       "acc_type_a_차대사람                   0.000000\n",
       "acc_type_a_차대차                    1.000000\n",
       "acc_type_a_차량단독                   0.000000\n",
       "acc_type_b_기타                     0.102268\n",
       "acc_type_b_길가장자리구역통행중             0.000000\n",
       "acc_type_b_보도통행중                  0.000000\n",
       "acc_type_b_정면충돌                   0.026852\n",
       "acc_type_b_차도통행중                  0.000000\n",
       "acc_type_b_추돌                     0.293465\n",
       "acc_type_b_측면충돌                   0.576250\n",
       "acc_type_b_횡단중                    0.000000\n",
       "acc_type_b_후진중충돌                  0.001165\n",
       "offender_violation_과속             0.000264\n",
       "offender_violation_교차로 통행방법 위반    0.087325\n",
       "offender_violation_기타             0.033379\n",
       "offender_violation_보행자 보호의무 위반    0.000000\n",
       "offender_violation_신호위반           0.324163\n",
       "offender_violation_안전거리 미확보       0.095434\n",
       "offender_violation_안전운전 의무 불이행    0.453459\n",
       "offender_violation_중앙선 침범         0.005977\n",
       "road_condition_b_건조               0.983497\n",
       "road_condition_b_서리/결빙            0.002000\n",
       "road_condition_b_적설               0.000220\n",
       "road_condition_b_젖음/습기            0.014283\n",
       "wheather_status_눈                 0.000044\n",
       "wheather_status_맑음                0.976070\n",
       "wheather_status_비                 0.008636\n",
       "wheather_status_흐림                0.015250\n",
       "road_type_a_교차로                   1.000000\n",
       "road_type_a_단일로                   0.000000\n",
       "road_type_b_고가도로위                 0.000000\n",
       "road_type_b_교량위                   0.000000\n",
       "road_type_b_교차로내                  0.611761\n",
       "road_type_b_교차로부근                 0.387514\n",
       "road_type_b_교차로횡단보도내              0.000725\n",
       "road_type_b_기타단일로                 0.000000\n",
       "road_type_b_지하차도(도로)내             0.000000\n",
       "road_type_b_터널안                   0.000000\n",
       "road_type_b_횡단보도부근                0.000000\n",
       "road_type_b_횡단보도상                 0.000000\n",
       "offender_vehicle_건설기계             0.002175\n",
       "offender_vehicle_승용차              0.878549\n",
       "offender_vehicle_승합차              0.033005\n",
       "offender_vehicle_원동기장치자전거         0.009625\n",
       "offender_vehicle_이륜차              0.036565\n",
       "offender_vehicle_자전거              0.005669\n",
       "offender_vehicle_특수차              0.000747\n",
       "offender_vehicle_화물차              0.033664\n",
       "offender_sex_남                    0.903841\n",
       "offender_sex_여                    0.096159\n",
       "offender_age_노년                   0.079876\n",
       "offender_age_미성년                  0.008240\n",
       "offender_age_장년                   0.288872\n",
       "offender_age_중년                   0.436517\n",
       "offender_age_청년                   0.186495\n",
       "victim_vehicle_건설기계               0.000571\n",
       "victim_vehicle_보행자                0.000000\n",
       "victim_vehicle_승용차                0.803177\n",
       "victim_vehicle_승합차                0.037971\n",
       "victim_vehicle_원동기장치자전거           0.022611\n",
       "victim_vehicle_이륜차                0.100356\n",
       "victim_vehicle_자전거                0.013206\n",
       "victim_vehicle_특수차                0.000352\n",
       "victim_vehicle_화물차                0.021754\n",
       "victim_sex_남                      0.890920\n",
       "victim_sex_여                      0.109080\n",
       "victim_age_노년                     0.048629\n",
       "victim_age_미성년                    0.007735\n",
       "victim_age_장년                     0.355586\n",
       "victim_age_중년                     0.389338\n",
       "victim_age_청년                     0.198712\n",
       "dbscan_labels                     0.000000\n",
       "target                            0.283291\n",
       "dtype: float64"
      ]
     },
     "execution_count": 17,
     "metadata": {},
     "output_type": "execute_result"
    }
   ],
   "source": [
    "dbscan_gr0_df.mean().T"
   ]
  },
  {
   "cell_type": "code",
   "execution_count": 18,
   "metadata": {
    "scrolled": true
   },
   "outputs": [
    {
     "data": {
      "text/plain": [
       "occur_date_Autumn                 0.268838\n",
       "occur_date_Spring                 0.253034\n",
       "occur_date_Summer                 0.247130\n",
       "occur_date_Winter                 0.230998\n",
       "occur_time_Dawn                   0.182048\n",
       "occur_time_Day                    0.520057\n",
       "occur_time_Night                  0.297895\n",
       "occur_dayofweek_금                 0.165034\n",
       "occur_dayofweek_목                 0.145286\n",
       "occur_dayofweek_수                 0.143590\n",
       "occur_dayofweek_월                 0.128088\n",
       "occur_dayofweek_일                 0.105934\n",
       "occur_dayofweek_토                 0.171674\n",
       "occur_dayofweek_화                 0.140395\n",
       "acc_type_a_차대사람                   0.000000\n",
       "acc_type_a_차대차                    1.000000\n",
       "acc_type_a_차량단독                   0.000000\n",
       "acc_type_b_기타                     0.200863\n",
       "acc_type_b_길가장자리구역통행중             0.000000\n",
       "acc_type_b_보도통행중                  0.000000\n",
       "acc_type_b_정면충돌                   0.013727\n",
       "acc_type_b_차도통행중                  0.000000\n",
       "acc_type_b_추돌                     0.463284\n",
       "acc_type_b_측면충돌                   0.319708\n",
       "acc_type_b_횡단중                    0.000000\n",
       "acc_type_b_후진중충돌                  0.002419\n",
       "offender_violation_과속             0.000855\n",
       "offender_violation_교차로 통행방법 위반    0.003471\n",
       "offender_violation_기타             0.055919\n",
       "offender_violation_보행자 보호의무 위반    0.000039\n",
       "offender_violation_신호위반           0.009953\n",
       "offender_violation_안전거리 미확보       0.310123\n",
       "offender_violation_안전운전 의무 불이행    0.597854\n",
       "offender_violation_중앙선 침범         0.021786\n",
       "road_condition_b_건조               0.961910\n",
       "road_condition_b_서리/결빙            0.002945\n",
       "road_condition_b_적설               0.000368\n",
       "road_condition_b_젖음/습기            0.034777\n",
       "wheather_status_눈                 0.000131\n",
       "wheather_status_맑음                0.956769\n",
       "wheather_status_비                 0.026848\n",
       "wheather_status_흐림                0.016251\n",
       "road_type_a_교차로                   0.000000\n",
       "road_type_a_단일로                   1.000000\n",
       "road_type_b_고가도로위                 0.004221\n",
       "road_type_b_교량위                   0.015107\n",
       "road_type_b_교차로내                  0.000000\n",
       "road_type_b_교차로부근                 0.000000\n",
       "road_type_b_교차로횡단보도내              0.000000\n",
       "road_type_b_기타단일로                 0.954626\n",
       "road_type_b_지하차도(도로)내             0.002630\n",
       "road_type_b_터널안                   0.004247\n",
       "road_type_b_횡단보도부근                0.017250\n",
       "road_type_b_횡단보도상                 0.001920\n",
       "offender_vehicle_건설기계             0.004799\n",
       "offender_vehicle_승용차              0.865351\n",
       "offender_vehicle_승합차              0.036157\n",
       "offender_vehicle_원동기장치자전거         0.008375\n",
       "offender_vehicle_이륜차              0.023693\n",
       "offender_vehicle_자전거              0.005693\n",
       "offender_vehicle_특수차              0.001210\n",
       "offender_vehicle_화물차              0.054722\n",
       "offender_sex_남                    0.899943\n",
       "offender_sex_여                    0.100057\n",
       "offender_age_노년                   0.085265\n",
       "offender_age_미성년                  0.005483\n",
       "offender_age_장년                   0.299867\n",
       "offender_age_중년                   0.400292\n",
       "offender_age_청년                   0.209093\n",
       "victim_vehicle_건설기계               0.001696\n",
       "victim_vehicle_보행자                0.000000\n",
       "victim_vehicle_승용차                0.752212\n",
       "victim_vehicle_승합차                0.043822\n",
       "victim_vehicle_원동기장치자전거           0.030674\n",
       "victim_vehicle_이륜차                0.116189\n",
       "victim_vehicle_자전거                0.019367\n",
       "victim_vehicle_특수차                0.001223\n",
       "victim_vehicle_화물차                0.034816\n",
       "victim_sex_남                      0.858685\n",
       "victim_sex_여                      0.141315\n",
       "victim_age_노년                     0.043047\n",
       "victim_age_미성년                    0.013556\n",
       "victim_age_장년                     0.368342\n",
       "victim_age_중년                     0.319024\n",
       "victim_age_청년                     0.256032\n",
       "dbscan_labels                     1.000000\n",
       "target                            0.251141\n",
       "dtype: float64"
      ]
     },
     "execution_count": 18,
     "metadata": {},
     "output_type": "execute_result"
    }
   ],
   "source": [
    "dbscan_gr1_df.mean().T"
   ]
  },
  {
   "cell_type": "code",
   "execution_count": 19,
   "metadata": {
    "scrolled": true
   },
   "outputs": [
    {
     "data": {
      "text/plain": [
       "occur_date_Autumn                 0.271988\n",
       "occur_date_Spring                 0.272988\n",
       "occur_date_Summer                 0.219623\n",
       "occur_date_Winter                 0.235400\n",
       "occur_time_Dawn                   0.147383\n",
       "occur_time_Day                    0.565819\n",
       "occur_time_Night                  0.286797\n",
       "occur_dayofweek_금                 0.167226\n",
       "occur_dayofweek_목                 0.150545\n",
       "occur_dayofweek_수                 0.151061\n",
       "occur_dayofweek_월                 0.138995\n",
       "occur_dayofweek_일                 0.102730\n",
       "occur_dayofweek_토                 0.149577\n",
       "occur_dayofweek_화                 0.139866\n",
       "acc_type_a_차대사람                   1.000000\n",
       "acc_type_a_차대차                    0.000000\n",
       "acc_type_a_차량단독                   0.000000\n",
       "acc_type_b_기타                     0.530458\n",
       "acc_type_b_길가장자리구역통행중             0.086662\n",
       "acc_type_b_보도통행중                  0.011583\n",
       "acc_type_b_정면충돌                   0.000000\n",
       "acc_type_b_차도통행중                  0.088469\n",
       "acc_type_b_추돌                     0.000000\n",
       "acc_type_b_측면충돌                   0.000000\n",
       "acc_type_b_횡단중                    0.282829\n",
       "acc_type_b_후진중충돌                  0.000000\n",
       "offender_violation_과속             0.001452\n",
       "offender_violation_교차로 통행방법 위반    0.000161\n",
       "offender_violation_기타             0.033813\n",
       "offender_violation_보행자 보호의무 위반    0.020778\n",
       "offender_violation_신호위반           0.016584\n",
       "offender_violation_안전거리 미확보       0.000807\n",
       "offender_violation_안전운전 의무 불이행    0.920985\n",
       "offender_violation_중앙선 침범         0.005420\n",
       "road_condition_b_건조               0.994063\n",
       "road_condition_b_서리/결빙            0.001613\n",
       "road_condition_b_적설               0.000452\n",
       "road_condition_b_젖음/습기            0.003872\n",
       "wheather_status_눈                 0.000000\n",
       "wheather_status_맑음                0.984287\n",
       "wheather_status_비                 0.000000\n",
       "wheather_status_흐림                0.015713\n",
       "road_type_a_교차로                   0.000000\n",
       "road_type_a_단일로                   1.000000\n",
       "road_type_b_고가도로위                 0.000194\n",
       "road_type_b_교량위                   0.001129\n",
       "road_type_b_교차로내                  0.000000\n",
       "road_type_b_교차로부근                 0.000000\n",
       "road_type_b_교차로횡단보도내              0.000000\n",
       "road_type_b_기타단일로                 0.950474\n",
       "road_type_b_지하차도(도로)내             0.000548\n",
       "road_type_b_터널안                   0.000226\n",
       "road_type_b_횡단보도부근                0.020036\n",
       "road_type_b_횡단보도상                 0.027392\n",
       "offender_vehicle_건설기계             0.003130\n",
       "offender_vehicle_승용차              0.771665\n",
       "offender_vehicle_승합차              0.095470\n",
       "offender_vehicle_원동기장치자전거         0.010970\n",
       "offender_vehicle_이륜차              0.025715\n",
       "offender_vehicle_자전거              0.015616\n",
       "offender_vehicle_특수차              0.001355\n",
       "offender_vehicle_화물차              0.076079\n",
       "offender_sex_남                    0.849519\n",
       "offender_sex_여                    0.150481\n",
       "offender_age_노년                   0.084242\n",
       "offender_age_미성년                  0.003355\n",
       "offender_age_장년                   0.328612\n",
       "offender_age_중년                   0.407143\n",
       "offender_age_청년                   0.176647\n",
       "victim_vehicle_건설기계               0.000000\n",
       "victim_vehicle_보행자                1.000000\n",
       "victim_vehicle_승용차                0.000000\n",
       "victim_vehicle_승합차                0.000000\n",
       "victim_vehicle_원동기장치자전거           0.000000\n",
       "victim_vehicle_이륜차                0.000000\n",
       "victim_vehicle_자전거                0.000000\n",
       "victim_vehicle_특수차                0.000000\n",
       "victim_vehicle_화물차                0.000000\n",
       "victim_sex_남                      0.542363\n",
       "victim_sex_여                      0.457637\n",
       "victim_age_노년                     0.196425\n",
       "victim_age_미성년                    0.117119\n",
       "victim_age_장년                     0.198813\n",
       "victim_age_중년                     0.250532\n",
       "victim_age_청년                     0.237110\n",
       "dbscan_labels                     2.000000\n",
       "target                            0.462283\n",
       "dtype: float64"
      ]
     },
     "execution_count": 19,
     "metadata": {},
     "output_type": "execute_result"
    }
   ],
   "source": [
    "dbscan_gr2_df.mean().T"
   ]
  },
  {
   "cell_type": "code",
   "execution_count": null,
   "metadata": {},
   "outputs": [],
   "source": []
  }
 ],
 "metadata": {
  "kernelspec": {
   "display_name": "Python 3",
   "language": "python",
   "name": "python3"
  },
  "language_info": {
   "codemirror_mode": {
    "name": "ipython",
    "version": 3
   },
   "file_extension": ".py",
   "mimetype": "text/x-python",
   "name": "python",
   "nbconvert_exporter": "python",
   "pygments_lexer": "ipython3",
   "version": "3.8.8"
  }
 },
 "nbformat": 4,
 "nbformat_minor": 4
}
