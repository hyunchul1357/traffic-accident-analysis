{
 "cells": [
  {
   "cell_type": "markdown",
   "metadata": {},
   "source": [
    "### Import Common Modules"
   ]
  },
  {
   "cell_type": "code",
   "execution_count": 1,
   "metadata": {},
   "outputs": [
    {
     "name": "stdout",
     "output_type": "stream",
     "text": [
      "importing Jupyter notebook from traffic_common.ipynb\n"
     ]
    }
   ],
   "source": [
    "import import_ipynb\n",
    "\n",
    "import pandas as pd\n",
    "import numpy as np\n",
    "import matplotlib.pyplot as plt\n",
    "import seaborn as sns\n",
    "%matplotlib inline\n",
    "\n",
    "from sklearn.model_selection import train_test_split, cross_val_score\n",
    "from sklearn.metrics import classification_report,confusion_matrix, accuracy_score, roc_auc_score, \\\n",
    "                                precision_score, f1_score, recall_score, mean_squared_error, mean_absolute_error\n",
    "from sklearn.linear_model import Ridge, LogisticRegression\n",
    "from sklearn.metrics import classification_report\n",
    "\n",
    "import matplotlib as mpl\n",
    "from matplotlib import font_manager, rc\n",
    "font_name = font_manager.FontProperties(fname=\"c:/Windows/Fonts/malgun.ttf\").get_name()\n",
    "rc('font', family=font_name)\n",
    "mpl.rcParams['axes.unicode_minus'] = False\n",
    "\n",
    "pd.set_option('display.max_row', 500)\n",
    "pd.set_option('display.max_columns', 100)\n",
    "\n",
    "from traffic_common import get_category_age, get_category_season, get_category_time, drop_features, cleansing, \\\n",
    "                            encode_features, conv2XYarr, transform_dataframe, bar_chart, pie_chart"
   ]
  },
  {
   "cell_type": "markdown",
   "metadata": {},
   "source": [
    "### Load Dataset and Pre-processing"
   ]
  },
  {
   "cell_type": "code",
   "execution_count": 2,
   "metadata": {},
   "outputs": [],
   "source": [
    "traffic_df = pd.read_csv('dataset/seoul_traffic.csv', encoding='euc-kr')"
   ]
  },
  {
   "cell_type": "code",
   "execution_count": 3,
   "metadata": {},
   "outputs": [
    {
     "name": "stderr",
     "output_type": "stream",
     "text": [
      "<string>:6: SettingWithCopyWarning: \n",
      "A value is trying to be set on a copy of a slice from a DataFrame.\n",
      "Try using .loc[row_indexer,col_indexer] = value instead\n",
      "\n",
      "See the caveats in the documentation: https://pandas.pydata.org/pandas-docs/stable/user_guide/indexing.html#returning-a-view-versus-a-copy\n",
      "<string>:39: FutureWarning: The default value of regex will change from True to False in a future version.\n",
      "<string>:41: FutureWarning: The default value of regex will change from True to False in a future version.\n",
      "<string>:49: FutureWarning: The default value of regex will change from True to False in a future version.\n",
      "<string>:51: FutureWarning: The default value of regex will change from True to False in a future version.\n"
     ]
    }
   ],
   "source": [
    "traffic_df = transform_dataframe(traffic_df)"
   ]
  },
  {
   "cell_type": "code",
   "execution_count": 4,
   "metadata": {},
   "outputs": [
    {
     "data": {
      "text/html": [
       "<div>\n",
       "<style scoped>\n",
       "    .dataframe tbody tr th:only-of-type {\n",
       "        vertical-align: middle;\n",
       "    }\n",
       "\n",
       "    .dataframe tbody tr th {\n",
       "        vertical-align: top;\n",
       "    }\n",
       "\n",
       "    .dataframe thead th {\n",
       "        text-align: right;\n",
       "    }\n",
       "</style>\n",
       "<table border=\"1\" class=\"dataframe\">\n",
       "  <thead>\n",
       "    <tr style=\"text-align: right;\">\n",
       "      <th></th>\n",
       "      <th>acc_details</th>\n",
       "      <th>occur_date</th>\n",
       "      <th>occur_time</th>\n",
       "      <th>occur_dayofweek</th>\n",
       "      <th>acc_type_b</th>\n",
       "      <th>offender_violation</th>\n",
       "      <th>road_condition_b</th>\n",
       "      <th>wheather_status</th>\n",
       "      <th>road_type_b</th>\n",
       "      <th>offender_vehicle</th>\n",
       "      <th>offender_sex</th>\n",
       "      <th>offender_age</th>\n",
       "      <th>victim_vehicle</th>\n",
       "      <th>victim_sex</th>\n",
       "      <th>victim_age</th>\n",
       "    </tr>\n",
       "  </thead>\n",
       "  <tbody>\n",
       "    <tr>\n",
       "      <th>0</th>\n",
       "      <td>경상</td>\n",
       "      <td>Winter</td>\n",
       "      <td>Dawn</td>\n",
       "      <td>금</td>\n",
       "      <td>기타</td>\n",
       "      <td>기타</td>\n",
       "      <td>젖음/습기</td>\n",
       "      <td>맑음</td>\n",
       "      <td>기타단일로</td>\n",
       "      <td>승용차</td>\n",
       "      <td>남</td>\n",
       "      <td>중년</td>\n",
       "      <td>이륜차</td>\n",
       "      <td>남</td>\n",
       "      <td>미성년</td>\n",
       "    </tr>\n",
       "    <tr>\n",
       "      <th>1</th>\n",
       "      <td>중상</td>\n",
       "      <td>Winter</td>\n",
       "      <td>Dawn</td>\n",
       "      <td>금</td>\n",
       "      <td>추돌</td>\n",
       "      <td>안전거리 미확보</td>\n",
       "      <td>서리/결빙</td>\n",
       "      <td>맑음</td>\n",
       "      <td>기타단일로</td>\n",
       "      <td>승합차</td>\n",
       "      <td>남</td>\n",
       "      <td>중년</td>\n",
       "      <td>승용차</td>\n",
       "      <td>남</td>\n",
       "      <td>장년</td>\n",
       "    </tr>\n",
       "    <tr>\n",
       "      <th>2</th>\n",
       "      <td>경상</td>\n",
       "      <td>Winter</td>\n",
       "      <td>Dawn</td>\n",
       "      <td>금</td>\n",
       "      <td>추돌</td>\n",
       "      <td>기타</td>\n",
       "      <td>서리/결빙</td>\n",
       "      <td>흐림</td>\n",
       "      <td>기타단일로</td>\n",
       "      <td>승용차</td>\n",
       "      <td>남</td>\n",
       "      <td>중년</td>\n",
       "      <td>승용차</td>\n",
       "      <td>남</td>\n",
       "      <td>중년</td>\n",
       "    </tr>\n",
       "    <tr>\n",
       "      <th>3</th>\n",
       "      <td>경상</td>\n",
       "      <td>Winter</td>\n",
       "      <td>Dawn</td>\n",
       "      <td>금</td>\n",
       "      <td>기타</td>\n",
       "      <td>안전거리 미확보</td>\n",
       "      <td>건조</td>\n",
       "      <td>맑음</td>\n",
       "      <td>교차로부근</td>\n",
       "      <td>승용차</td>\n",
       "      <td>남</td>\n",
       "      <td>중년</td>\n",
       "      <td>승용차</td>\n",
       "      <td>남</td>\n",
       "      <td>중년</td>\n",
       "    </tr>\n",
       "    <tr>\n",
       "      <th>4</th>\n",
       "      <td>경상</td>\n",
       "      <td>Winter</td>\n",
       "      <td>Dawn</td>\n",
       "      <td>금</td>\n",
       "      <td>정면충돌</td>\n",
       "      <td>신호위반</td>\n",
       "      <td>건조</td>\n",
       "      <td>맑음</td>\n",
       "      <td>교차로내</td>\n",
       "      <td>승용차</td>\n",
       "      <td>남</td>\n",
       "      <td>청년</td>\n",
       "      <td>승용차</td>\n",
       "      <td>남</td>\n",
       "      <td>중년</td>\n",
       "    </tr>\n",
       "  </tbody>\n",
       "</table>\n",
       "</div>"
      ],
      "text/plain": [
       "  acc_details occur_date occur_time occur_dayofweek acc_type_b  \\\n",
       "0          경상     Winter       Dawn               금         기타   \n",
       "1          중상     Winter       Dawn               금         추돌   \n",
       "2          경상     Winter       Dawn               금         추돌   \n",
       "3          경상     Winter       Dawn               금         기타   \n",
       "4          경상     Winter       Dawn               금       정면충돌   \n",
       "\n",
       "  offender_violation road_condition_b wheather_status road_type_b  \\\n",
       "0                 기타            젖음/습기              맑음       기타단일로   \n",
       "1           안전거리 미확보            서리/결빙              맑음       기타단일로   \n",
       "2                 기타            서리/결빙              흐림       기타단일로   \n",
       "3           안전거리 미확보               건조              맑음       교차로부근   \n",
       "4               신호위반               건조              맑음        교차로내   \n",
       "\n",
       "  offender_vehicle offender_sex offender_age victim_vehicle victim_sex  \\\n",
       "0              승용차            남           중년            이륜차          남   \n",
       "1              승합차            남           중년            승용차          남   \n",
       "2              승용차            남           중년            승용차          남   \n",
       "3              승용차            남           중년            승용차          남   \n",
       "4              승용차            남           청년            승용차          남   \n",
       "\n",
       "  victim_age  \n",
       "0        미성년  \n",
       "1         장년  \n",
       "2         중년  \n",
       "3         중년  \n",
       "4         중년  "
      ]
     },
     "execution_count": 4,
     "metadata": {},
     "output_type": "execute_result"
    }
   ],
   "source": [
    "traffic_df.head()"
   ]
  },
  {
   "cell_type": "markdown",
   "metadata": {},
   "source": [
    "### Hypothesis Test [Chi-Square]"
   ]
  },
  {
   "cell_type": "code",
   "execution_count": 5,
   "metadata": {},
   "outputs": [],
   "source": [
    "import scipy.stats as stats"
   ]
  },
  {
   "cell_type": "code",
   "execution_count": 6,
   "metadata": {},
   "outputs": [],
   "source": [
    "def chisquare(x, y):\n",
    "    result = pd.crosstab(x, y)\n",
    "    stat = stats.chi2_contingency(observed = result)\n",
    "    print(x.name, ' -> ', y.name)\n",
    "    print('Chi-Square Statistic: {}, p-value: {}\\n'.format(stat[0], stat[1]))"
   ]
  },
  {
   "cell_type": "code",
   "execution_count": 7,
   "metadata": {},
   "outputs": [
    {
     "name": "stdout",
     "output_type": "stream",
     "text": [
      "occur_date  ->  acc_details\n",
      "Chi-Square Statistic: 27.96606642908225, p-value: 3.692092143863781e-06\n",
      "\n",
      "occur_time  ->  acc_details\n",
      "Chi-Square Statistic: 87.59522912538839, p-value: 9.526594391484761e-20\n",
      "\n",
      "occur_dayofweek  ->  acc_details\n",
      "Chi-Square Statistic: 30.3162809795288, p-value: 3.4222854791609286e-05\n",
      "\n",
      "acc_type_b  ->  acc_details\n",
      "Chi-Square Statistic: 12146.47749855585, p-value: 0.0\n",
      "\n",
      "offender_violation  ->  acc_details\n",
      "Chi-Square Statistic: 6018.040429066616, p-value: 0.0\n",
      "\n",
      "road_condition_b  ->  acc_details\n",
      "Chi-Square Statistic: 57.541566207608504, p-value: 1.9692392076530776e-12\n",
      "\n",
      "wheather_status  ->  acc_details\n",
      "Chi-Square Statistic: 77.94896573767522, p-value: 8.451045934525957e-17\n",
      "\n",
      "road_type_b  ->  acc_details\n",
      "Chi-Square Statistic: 2749.032679895525, p-value: 0.0\n",
      "\n",
      "offender_vehicle  ->  acc_details\n",
      "Chi-Square Statistic: 1418.3680913581936, p-value: 4.093878918069799e-302\n",
      "\n",
      "offender_sex  ->  acc_details\n",
      "Chi-Square Statistic: 8.009410809656202, p-value: 0.004653487579489117\n",
      "\n",
      "offender_age  ->  acc_details\n",
      "Chi-Square Statistic: 85.11041255479503, p-value: 1.4373045896036254e-17\n",
      "\n",
      "victim_vehicle  ->  acc_details\n",
      "Chi-Square Statistic: 17456.583277485523, p-value: 0.0\n",
      "\n",
      "victim_sex  ->  acc_details\n",
      "Chi-Square Statistic: 1781.496501601248, p-value: 0.0\n",
      "\n",
      "victim_age  ->  acc_details\n",
      "Chi-Square Statistic: 4836.190131788487, p-value: 0.0\n",
      "\n"
     ]
    }
   ],
   "source": [
    "for i in range(len(traffic_df.columns)-1):\n",
    "    chisquare(traffic_df.iloc[:,i+1], traffic_df['acc_details'])"
   ]
  }
 ],
 "metadata": {
  "kernelspec": {
   "display_name": "Python 3",
   "language": "python",
   "name": "python3"
  },
  "language_info": {
   "codemirror_mode": {
    "name": "ipython",
    "version": 3
   },
   "file_extension": ".py",
   "mimetype": "text/x-python",
   "name": "python",
   "nbconvert_exporter": "python",
   "pygments_lexer": "ipython3",
   "version": "3.8.8"
  }
 },
 "nbformat": 4,
 "nbformat_minor": 4
}
